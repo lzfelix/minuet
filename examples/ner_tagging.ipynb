{
 "cells": [
  {
   "cell_type": "code",
   "execution_count": 1,
   "metadata": {},
   "outputs": [
    {
     "name": "stderr",
     "output_type": "stream",
     "text": [
      "Using TensorFlow backend.\n"
     ]
    }
   ],
   "source": [
    "import numpy as np\n",
    "from minuet import loader, encoder, datastream, minuet\n",
    "from minuet import preprocessing as p"
   ]
  },
  {
   "cell_type": "code",
   "execution_count": 2,
   "metadata": {},
   "outputs": [],
   "source": [
    "TRAIN_PATH = './data/ner/train.txt'\n",
    "DEVEL_PATH = './data/ner/dev.txt'\n",
    "GLOVE_PATH = './embeddings/wglove.6B.300d.bin'\n",
    "\n",
    "MAX_SENT_LEN = 10\n",
    "MAX_WORD_LEN = 10\n",
    "SENT_LSTM = 32\n",
    "LSTM_SENT_DROP = 0.5"
   ]
  },
  {
   "cell_type": "code",
   "execution_count": 4,
   "metadata": {},
   "outputs": [],
   "source": [
    "X_t, Y_t = loader.load_dataset(TRAIN_PATH)\n",
    "X_v, Y_v = loader.load_dataset(DEVEL_PATH)\n",
    "\n",
    "pre_word = p.assemble(\n",
    "    p.lower,\n",
    "    p.replace_numbers\n",
    ")\n",
    "\n",
    "pre_char = p.assemble(\n",
    "    p.replace_numbers\n",
    ")\n",
    "\n",
    "#TODO: rename get_characters_vocabulary(*) to get_characters_index(*)\n",
    "Vw = loader.get_vocabulary(X_t, pre_word)\n",
    "char2index = loader.get_characters_mapping(X_t, pre_char)\n",
    "\n",
    "word2index, E = loader.load_embeddings(GLOVE_PATH, Vw)"
   ]
  },
  {
   "cell_type": "code",
   "execution_count": 5,
   "metadata": {},
   "outputs": [],
   "source": [
    "E_sent_t = encoder.sentence_to_index(X_t, word2index, pre_word, MAX_SENT_LEN)\n",
    "E_sent_v = encoder.sentence_to_index(X_v, word2index, pre_word, MAX_SENT_LEN)\n",
    "\n",
    "E_word_t = encoder.sentence_to_characters(X_t, char2index, MAX_WORD_LEN, MAX_SENT_LEN, pre_char)\n",
    "E_word_v = encoder.sentence_to_characters(X_v, char2index, MAX_WORD_LEN, MAX_SENT_LEN, pre_char)\n",
    "\n",
    "# labels indices\n",
    "Y_train, label_encoder = encoder.encode_labels(Y_t, MAX_SENT_LEN)\n",
    "Y_valid, _ = encoder.encode_labels(Y_v, MAX_SENT_LEN, label_encoder)\n",
    "\n",
    "Y_train = np.expand_dims(Y_train, -1)\n",
    "Y_valid = np.expand_dims(Y_valid, -1)"
   ]
  },
  {
   "cell_type": "code",
   "execution_count": 7,
   "metadata": {},
   "outputs": [
    {
     "name": "stdout",
     "output_type": "stream",
     "text": [
      "__________________________________________________________________________________________________\n",
      "Layer (type)                    Output Shape         Param #     Connected to                     \n",
      "==================================================================================================\n",
      "char_input (InputLayer)         (None, None, None)   0                                            \n",
      "__________________________________________________________________________________________________\n",
      "sent_input (InputLayer)         (None, None)         0                                            \n",
      "__________________________________________________________________________________________________\n",
      "char_embedding (Embedding)      (None, None, None, 3 2464        char_input[0][0]                 \n",
      "__________________________________________________________________________________________________\n",
      "word_embedding (Embedding)      (None, None, 300)    4793100     sent_input[0][0]                 \n",
      "__________________________________________________________________________________________________\n",
      "char_BiLSTM (TimeDistributed)   (None, None, 32)     6272        char_embedding[0][0]             \n",
      "__________________________________________________________________________________________________\n",
      "concatenate_1 (Concatenate)     (None, None, 332)    0           word_embedding[0][0]             \n",
      "                                                                 char_BiLSTM[0][0]                \n",
      "__________________________________________________________________________________________________\n",
      "sent_BiLSTM (Bidirectional)     (None, None, 64)     93440       concatenate_1[0][0]              \n",
      "__________________________________________________________________________________________________\n",
      "CRF (CRF)                       (None, None, 9)      684         sent_BiLSTM[0][0]                \n",
      "==================================================================================================\n",
      "Total params: 4,895,960\n",
      "Trainable params: 102,860\n",
      "Non-trainable params: 4,793,100\n",
      "__________________________________________________________________________________________________\n",
      "Train on 14041 samples, validate on 3250 samples\n",
      "Epoch 1/5\n",
      "14041/14041 [==============================] - 26s 2ms/step - loss: 2.1293 - acc: 0.8699 - val_loss: 1.5996 - val_acc: 0.9455\n",
      "Epoch 2/5\n",
      "14041/14041 [==============================] - 21s 1ms/step - loss: 1.8223 - acc: 0.9505 - val_loss: 1.5347 - val_acc: 0.9627\n",
      "Epoch 3/5\n",
      "14041/14041 [==============================] - 21s 1ms/step - loss: 1.7737 - acc: 0.9625 - val_loss: 1.5125 - val_acc: 0.9675\n",
      "Epoch 4/5\n",
      "14041/14041 [==============================] - 21s 1ms/step - loss: 1.7504 - acc: 0.9684 - val_loss: 1.5015 - val_acc: 0.9704\n",
      "Epoch 5/5\n",
      "14041/14041 [==============================] - 21s 1ms/step - loss: 1.7348 - acc: 0.9729 - val_loss: 1.4939 - val_acc: 0.9718\n"
     ]
    }
   ],
   "source": [
    "from minuet import minuet as mm\n",
    "\n",
    "char_configs = mm.CharEmbeddingConfigs(len(char2index), 32, 16, 0.5)\n",
    "\n",
    "model = mm.Minuet(\n",
    "    embedding=E,\n",
    "    lstm_size=SENT_LSTM,\n",
    "    lstm_drop=LSTM_SENT_DROP,\n",
    "    bidirectional=True,\n",
    "    crf=True,\n",
    "    char_embeddings_conf=char_configs\n",
    ")\n",
    "\n",
    "model.fit([E_sent_t, E_word_t], Y_train, [E_sent_v, E_word_v], Y_valid)"
   ]
  },
  {
   "cell_type": "code",
   "execution_count": 13,
   "metadata": {},
   "outputs": [
    {
     "name": "stdout",
     "output_type": "stream",
     "text": [
      "Uruguay/B-LOC\tpresident/O\tMr/B-PER\tFulano/I-PER\tleaves/O\tMexico/B-LOC\tto/O\tNATO/B-ORG\tmeeting/O\t\n",
      "He/O\tworks/O\tat/O\tthe/O\tNew/B-ORG\tYork/I-ORG\tTimes/I-ORG\tin/O\tNew/B-LOC\tYork/I-LOC\t\n",
      "They/O\twent/O\tto/O\tthe/O\tcity/O\tfor/O\tthe/O\tmeeting/O\t\n",
      "Apple/B-ORG\tCorporation/I-ORG\tnow/O\tprofits/O\tfrom/O\tselling/O\tapples/O\t\n",
      "EU/B-ORG\trejects/O\tGerman/B-MISC\tcall/O\tto/O\tboycott/O\tBritish/B-MISC\tlamb/O\t\n"
     ]
    }
   ],
   "source": [
    "test_sentences = [\n",
    "    'Uruguay president Mr Fulano leaves Mexico to NATO meeting'.split(),\n",
    "    'He works at the New York Times in New York'.split(),\n",
    "    'They went to the city for the meeting'.split(),\n",
    "    'Apple Corporation now profits from selling apples'.split(),\n",
    "    'EU rejects German call to boycott British lamb'.split()\n",
    "]\n",
    "\n",
    "labels = model.predict(test_sentences, word2index, Cw, pre_word, pre_char, 10)\n",
    "labels = label_encoder.inverse_transform(labels)\n",
    "\n",
    "for sentence, labels in zip(test_sentences, labels):\n",
    "    label_off=0\n",
    "    for index in range(len(sentence)):\n",
    "        print('{}/{}'.format(sentence[index], labels[label_off + index]), end='\\t')\n",
    "    print()   "
   ]
  }
 ],
 "metadata": {
  "kernelspec": {
   "display_name": "Python 3",
   "language": "python",
   "name": "python3"
  },
  "language_info": {
   "codemirror_mode": {
    "name": "ipython",
    "version": 3
   },
   "file_extension": ".py",
   "mimetype": "text/x-python",
   "name": "python",
   "nbconvert_exporter": "python",
   "pygments_lexer": "ipython3",
   "version": "3.6.5"
  }
 },
 "nbformat": 4,
 "nbformat_minor": 2
}
