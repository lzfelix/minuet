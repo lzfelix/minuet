{
 "cells": [
  {
   "cell_type": "code",
   "execution_count": 1,
   "metadata": {},
   "outputs": [
    {
     "name": "stderr",
     "output_type": "stream",
     "text": [
      "Using TensorFlow backend.\n"
     ]
    }
   ],
   "source": [
    "import numpy as np\n",
    "from minuet import preprocessing as p\n",
    "from minuet import loader, encoder, datastream, minuet\n",
    "from minuet import Minuet, CharEmbeddingConfigs"
   ]
  },
  {
   "cell_type": "markdown",
   "metadata": {},
   "source": [
    "### Setting hyperparameters"
   ]
  },
  {
   "cell_type": "code",
   "execution_count": 2,
   "metadata": {},
   "outputs": [],
   "source": [
    "TRAIN_PATH = './data/ner/train.txt'\n",
    "DEVEL_PATH = './data/ner/dev.txt'\n",
    "GLOVE_PATH = './embeddings/wglove.6B.300d.bin'\n",
    "\n",
    "MAX_SENT_LEN = 10\n",
    "MAX_WORD_LEN = 10\n",
    "SENT_LSTM = 32\n",
    "LSTM_SENT_DROP = 0.5\n",
    "\n",
    "CHAR_EMBD = 16\n",
    "CHAR_LSTM = 32\n",
    "CHAR_DROP = 0.5"
   ]
  },
  {
   "cell_type": "markdown",
   "metadata": {},
   "source": [
    "### Loading data, setting preprocessing pipeline"
   ]
  },
  {
   "cell_type": "code",
   "execution_count": 3,
   "metadata": {},
   "outputs": [],
   "source": [
    "X_t, Y_t = loader.load_dataset(TRAIN_PATH)\n",
    "X_v, Y_v = loader.load_dataset(DEVEL_PATH)\n",
    "\n",
    "pre_word = p.assemble(\n",
    "    p.lower,\n",
    "    p.replace_numbers\n",
    ")\n",
    "\n",
    "pre_char = p.assemble(\n",
    "    p.lower,\n",
    "    p.replace_numbers\n",
    ")\n",
    "\n",
    "Vw = loader.get_vocabulary(X_t, pre_word)\n",
    "char2index = loader.get_characters_mapping(X_t, pre_char)\n",
    "word2index, E = loader.load_embeddings(GLOVE_PATH, Vw, retain=False)"
   ]
  },
  {
   "cell_type": "code",
   "execution_count": 4,
   "metadata": {},
   "outputs": [],
   "source": [
    "# labels indices\n",
    "Y_train, label_encoder = encoder.encode_labels(Y_t, MAX_SENT_LEN)\n",
    "Y_valid, _ = encoder.encode_labels(Y_v, MAX_SENT_LEN, label_encoder)\n",
    "\n",
    "Y_train = np.expand_dims(Y_train, -1)\n",
    "Y_valid = np.expand_dims(Y_valid, -1)"
   ]
  },
  {
   "cell_type": "markdown",
   "metadata": {},
   "source": [
    "### Training the model"
   ]
  },
  {
   "cell_type": "code",
   "execution_count": 5,
   "metadata": {},
   "outputs": [
    {
     "name": "stdout",
     "output_type": "stream",
     "text": [
      "__________________________________________________________________________________________________\n",
      "Layer (type)                    Output Shape         Param #     Connected to                     \n",
      "==================================================================================================\n",
      "char_input (InputLayer)         (None, None, None)   0                                            \n",
      "__________________________________________________________________________________________________\n",
      "sent_input (InputLayer)         (None, None)         0                                            \n",
      "__________________________________________________________________________________________________\n",
      "char_embedding (Embedding)      (None, None, None, 1 816         char_input[0][0]                 \n",
      "__________________________________________________________________________________________________\n",
      "word_embedding (Embedding)      (None, None, 300)    4793100     sent_input[0][0]                 \n",
      "__________________________________________________________________________________________________\n",
      "char_BiLSTM (TimeDistributed)   (None, None, 64)     12544       char_embedding[0][0]             \n",
      "__________________________________________________________________________________________________\n",
      "concatenate_1 (Concatenate)     (None, None, 364)    0           word_embedding[0][0]             \n",
      "                                                                 char_BiLSTM[0][0]                \n",
      "__________________________________________________________________________________________________\n",
      "sent_BiLSTM (Bidirectional)     (None, None, 64)     101632      concatenate_1[0][0]              \n",
      "__________________________________________________________________________________________________\n",
      "CRF (CRF)                       (None, None, 9)      684         sent_BiLSTM[0][0]                \n",
      "==================================================================================================\n",
      "Total params: 4,908,776\n",
      "Trainable params: 115,676\n",
      "Non-trainable params: 4,793,100\n",
      "__________________________________________________________________________________________________\n",
      "Train on 14041 samples, validate on 3250 samples\n",
      "Epoch 1/5\n",
      "14041/14041 [==============================] - 28s 2ms/step - loss: 2.1854 - acc: 0.8504 - val_loss: 1.6950 - val_acc: 0.9166\n",
      "\n",
      "Epoch 00001: val_loss improved from inf to 1.69497, saving model to ./models/ner/model.hdf5\n",
      "Epoch 2/5\n",
      "14041/14041 [==============================] - 23s 2ms/step - loss: 1.8891 - acc: 0.9298 - val_loss: 1.6095 - val_acc: 0.9391\n",
      "\n",
      "Epoch 00002: val_loss improved from 1.69497 to 1.60946, saving model to ./models/ner/model.hdf5\n",
      "Epoch 3/5\n",
      "14041/14041 [==============================] - 23s 2ms/step - loss: 1.8285 - acc: 0.9445 - val_loss: 1.5770 - val_acc: 0.9489\n",
      "\n",
      "Epoch 00003: val_loss improved from 1.60946 to 1.57703, saving model to ./models/ner/model.hdf5\n",
      "Epoch 4/5\n",
      "14041/14041 [==============================] - 23s 2ms/step - loss: 1.7956 - acc: 0.9530 - val_loss: 1.5577 - val_acc: 0.9532\n",
      "\n",
      "Epoch 00004: val_loss improved from 1.57703 to 1.55774, saving model to ./models/ner/model.hdf5\n",
      "Epoch 5/5\n",
      "14041/14041 [==============================] - 23s 2ms/step - loss: 1.7759 - acc: 0.9578 - val_loss: 1.5439 - val_acc: 0.9578\n",
      "\n",
      "Epoch 00005: val_loss improved from 1.55774 to 1.54388, saving model to ./models/ner/model.hdf5\n"
     ]
    }
   ],
   "source": [
    "char_configs = CharEmbeddingConfigs(\n",
    "    char2index,\n",
    "    pre_char,\n",
    "    MAX_WORD_LEN,\n",
    "    CHAR_EMBD,\n",
    "    CHAR_LSTM,\n",
    "    CHAR_DROP\n",
    ")\n",
    "\n",
    "model = Minuet(\n",
    "    word2index=word2index,\n",
    "    pre_word=pre_word,\n",
    "    word_embedding=E,\n",
    "    lstm_size=SENT_LSTM,\n",
    "    lstm_drop=LSTM_SENT_DROP,\n",
    "    bidirectional=True,\n",
    "    crf=True,\n",
    "    char_embeddings_conf=char_configs\n",
    ")\n",
    "\n",
    "model.set_checkpoint_path('./models/ner/')\n",
    "model.set_label_encoder(label_encoder)\n",
    "\n",
    "in_train = model.prepare_samples(X_t, MAX_SENT_LEN)\n",
    "in_valid = model.prepare_samples(X_v, MAX_SENT_LEN)\n",
    "\n",
    "model.fit(in_train, Y_train, in_valid, Y_valid)"
   ]
  },
  {
   "cell_type": "markdown",
   "metadata": {},
   "source": [
    "### Testing"
   ]
  },
  {
   "cell_type": "code",
   "execution_count": 8,
   "metadata": {},
   "outputs": [
    {
     "name": "stdout",
     "output_type": "stream",
     "text": [
      "Uruguay/B-LOC\tpresident/O\tmr/B-PER\tmujica/I-PER\tleaves/O\tthe/O\tcountry/O\tto/O\ta/O\tmeeting/O\t\n",
      "He/O\tworks/O\tat/O\tthe/O\tNew/B-LOC\tYork/I-LOC\tTimes/O\tin/O\tnew/B-LOC\tyork/I-LOC\t\n",
      "They/O\twent/O\tto/O\tthe/O\tcity/O\tfor/O\tthe/O\tmeeting/O\t\n",
      "apple/B-ORG\tnow/O\tprofits/O\tfrom/O\tselling/O\tapples/O\tin/O\tBrasil/O\t\n",
      "EU/B-ORG\trejects/O\tgerman/B-MISC\tcall/O\tto/O\tboycott/O\tBritish/B-MISC\tlamb/O\t\n"
     ]
    }
   ],
   "source": [
    "test_sentences = [\n",
    "    'Uruguay president mr mujica leaves the country to a meeting'.split(),\n",
    "    'He works at the New York Times in new york'.split(),\n",
    "    'They went to the city for the meeting'.split(),\n",
    "    'apple now profits from selling apples in Brasil'.split(),\n",
    "    'EU rejects german call to boycott British lamb'.split()\n",
    "]\n",
    "\n",
    "labels = model.predict(test_sentences)\n",
    "labels = model.decode_predictions(labels)\n",
    "\n",
    "for sentence, labels in zip(test_sentences, labels):\n",
    "    label_off=0\n",
    "    for index in range(len(sentence)):\n",
    "        print('{}/{}'.format(sentence[index], labels[label_off + index]), end='\\t')\n",
    "    print()"
   ]
  },
  {
   "cell_type": "markdown",
   "metadata": {},
   "source": [
    "### Loading"
   ]
  },
  {
   "cell_type": "code",
   "execution_count": 9,
   "metadata": {},
   "outputs": [
    {
     "name": "stdout",
     "output_type": "stream",
     "text": [
      "Uruguay/B-LOC\tpresident/O\tmr/B-PER\tmujica/I-PER\tleaves/O\tthe/O\tcountry/O\tto/O\ta/O\tmeeting/O\t\n",
      "He/O\tworks/O\tat/O\tthe/O\tNew/B-LOC\tYork/I-LOC\tTimes/O\tin/O\tnew/B-LOC\tyork/I-LOC\t\n",
      "They/O\twent/O\tto/O\tthe/O\tcity/O\tfor/O\tthe/O\tmeeting/O\t\n",
      "apple/B-ORG\tnow/O\tprofits/O\tfrom/O\tselling/O\tapples/O\tin/O\tBrasil/O\t\n",
      "EU/B-ORG\trejects/O\tgerman/B-MISC\tcall/O\tto/O\tboycott/O\tBritish/B-MISC\tlamb/O\t\n"
     ]
    }
   ],
   "source": [
    "del model\n",
    "\n",
    "model = Minuet.load('models/ner/')\n",
    "labels = model.decode_predictions(model.predict(test_sentences))\n",
    "\n",
    "for sentence, labels in zip(test_sentences, labels):\n",
    "    label_off=0\n",
    "    for index in range(len(sentence)):\n",
    "        print('{}/{}'.format(sentence[index], labels[label_off + index]), end='\\t')\n",
    "    print()"
   ]
  }
 ],
 "metadata": {
  "kernelspec": {
   "display_name": "Python 3",
   "language": "python",
   "name": "python3"
  },
  "language_info": {
   "codemirror_mode": {
    "name": "ipython",
    "version": 3
   },
   "file_extension": ".py",
   "mimetype": "text/x-python",
   "name": "python",
   "nbconvert_exporter": "python",
   "pygments_lexer": "ipython3",
   "version": "3.6.5"
  }
 },
 "nbformat": 4,
 "nbformat_minor": 2
}
